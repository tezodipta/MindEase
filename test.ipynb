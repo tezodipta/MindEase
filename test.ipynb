{
 "cells": [
  {
   "cell_type": "code",
   "execution_count": 1,
   "metadata": {},
   "outputs": [
    {
     "name": "stdout",
     "output_type": "stream",
     "text": [
      "True\n",
      "NVIDIA GeForce GTX 1650 with Max-Q Design\n"
     ]
    }
   ],
   "source": [
    "import torch\n",
    "print(torch.cuda.is_available())  # Should return True\n",
    "print(torch.cuda.get_device_name(0))  # Should return your GPU model\n"
   ]
  },
  {
   "cell_type": "code",
   "execution_count": null,
   "metadata": {},
   "outputs": [
    {
     "name": "stderr",
     "output_type": "stream",
     "text": [
      "Some parameters are on the meta device because they were offloaded to the cpu.\n"
     ]
    },
    {
     "name": "stdout",
     "output_type": "stream",
     "text": [
      "Model and tokenizer downloaded successfully!\n"
     ]
    }
   ],
   "source": [
    "#download the model and tokenizer\n",
    "\n",
    "from transformers import AutoModelForCausalLM, AutoTokenizer\n",
    "\n",
    "MODEL_NAME = \"TinyLlama/TinyLlama-1.1B-Chat-v1.0\"\n",
    "\n",
    "tokenizer = AutoTokenizer.from_pretrained(MODEL_NAME)\n",
    "model = AutoModelForCausalLM.from_pretrained(MODEL_NAME, device_map=\"auto\")\n",
    "\n",
    "print(\"Model and tokenizer downloaded successfully!\")\n"
   ]
  },
  {
   "cell_type": "code",
   "execution_count": null,
   "metadata": {},
   "outputs": [
    {
     "name": "stdout",
     "output_type": "stream",
     "text": [
      "<class 'pandas.core.frame.DataFrame'>\n",
      "RangeIndex: 823 entries, 0 to 822\n",
      "Data columns (total 6 columns):\n",
      " #   Column     Non-Null Count  Dtype  \n",
      "---  ------     --------------  -----  \n",
      " 0   score      800 non-null    float64\n",
      " 1   selftext   800 non-null    object \n",
      " 2   subreddit  800 non-null    object \n",
      " 3   title      800 non-null    object \n",
      " 4   Label      800 non-null    object \n",
      " 5   CAT 1      200 non-null    object \n",
      "dtypes: float64(1), object(5)\n",
      "memory usage: 38.7+ KB\n",
      "None\n",
      "   score                                           selftext subreddit  \\\n",
      "0    1.0  Tried to watch this documentary “anxious Ameri...   Anxiety   \n",
      "1    1.0  i’m currently laying in bed wide awake, feelin...   Anxiety   \n",
      "2    2.0  Second time trying weed. First time felt close...   Anxiety   \n",
      "3    1.0  I am not posting this for me, but rather for m...   Anxiety   \n",
      "4    1.0  21 year old male been dealing with anxiety eve...   Anxiety   \n",
      "\n",
      "                                               title             Label CAT 1  \n",
      "0                        Do people get over anxiety?  Drug and Alcohol   NaN  \n",
      "1  does anyone else have this big fear of suddenl...  Drug and Alcohol   NaN  \n",
      "2         3 hour long panic attack after trying weed  Drug and Alcohol   NaN  \n",
      "3  Please leave in the comments ANYTHING that has...  Drug and Alcohol   NaN  \n",
      "4                                    Alcohol induced  Drug and Alcohol   NaN  \n"
     ]
    }
   ],
   "source": [
    "#donwload the data\n",
    "\n",
    "import pandas as pd\n",
    "import glob\n",
    "\n",
    "# Define the path to all CSV files in the \"labelled data\" folder\n",
    "csv_files = glob.glob(\"data/reddit-mental-health-dataset/Original Reddit Data/Labelled Data/*.csv\")\n",
    "\n",
    "# Read all CSVs and combine them\n",
    "df_list = [pd.read_csv(file) for file in csv_files]\n",
    "df = pd.concat(df_list, ignore_index=True)\n",
    "\n",
    "# Show basic dataset info\n",
    "print(df.info())\n",
    "print(df.head())\n"
   ]
  },
  {
   "cell_type": "markdown",
   "metadata": {},
   "source": [
    "After downloading the data move the data to \"data\" folder and run the below code to get the data in the required format."
   ]
  },
  {
   "cell_type": "code",
   "execution_count": 12,
   "metadata": {},
   "outputs": [
    {
     "name": "stdout",
     "output_type": "stream",
     "text": [
      "<class 'pandas.core.frame.DataFrame'>\n",
      "Index: 800 entries, 0 to 822\n",
      "Data columns (total 2 columns):\n",
      " #   Column  Non-Null Count  Dtype \n",
      "---  ------  --------------  ----- \n",
      " 0   text    800 non-null    object\n",
      " 1   Label   800 non-null    object\n",
      "dtypes: object(2)\n",
      "memory usage: 18.8+ KB\n",
      "None\n",
      "                                                text             Label\n",
      "0  Do people get over anxiety? Tried to watch thi...  Drug and Alcohol\n",
      "1  does anyone else have this big fear of suddenl...  Drug and Alcohol\n",
      "2  3 hour long panic attack after trying weed Sec...  Drug and Alcohol\n",
      "3  Please leave in the comments ANYTHING that has...  Drug and Alcohol\n",
      "4  Alcohol induced 21 year old male been dealing ...  Drug and Alcohol\n",
      "✅ Cleaned dataset saved successfully!\n"
     ]
    }
   ],
   "source": [
    "import pandas as pd\n",
    "import glob\n",
    "\n",
    "# Load all CSV files from the correct path\n",
    "csv_files = glob.glob(\"data/reddit-mental-health-dataset/Original Reddit Data/Labelled Data/*.csv\")\n",
    "\n",
    "# Read and merge all CSVs\n",
    "df_list = [pd.read_csv(file) for file in csv_files]\n",
    "df = pd.concat(df_list, ignore_index=True)\n",
    "\n",
    "# Keep only relevant columns\n",
    "df = df[['title', 'selftext', 'Label']]\n",
    "\n",
    "# Drop missing values in 'selftext'\n",
    "df = df.dropna(subset=['selftext'])\n",
    "\n",
    "# Combine title and selftext into one column\n",
    "df['text'] = df['title'].fillna('') + \" \" + df['selftext']\n",
    "\n",
    "# Keep only the final processed text and label\n",
    "df = df[['text', 'Label']]\n",
    "\n",
    "# Show updated dataset info\n",
    "print(df.info())\n",
    "print(df.head())\n",
    "\n",
    "# Save the cleaned dataset as a CSV file\n",
    "df.to_csv(\"data/reddit-mental-health-dataset/cleaned_mental_health_data.csv\", index=False)\n",
    "\n",
    "print(\"✅ Cleaned dataset saved successfully!\")\n"
   ]
  },
  {
   "cell_type": "code",
   "execution_count": 13,
   "metadata": {},
   "outputs": [
    {
     "name": "stdout",
     "output_type": "stream",
     "text": [
      "✅ Tokenization complete! Data saved as Parquet.\n"
     ]
    }
   ],
   "source": [
    "from transformers import AutoTokenizer\n",
    "import pandas as pd\n",
    "\n",
    "# Load cleaned dataset\n",
    "df = pd.read_csv(\"data/reddit-mental-health-dataset/cleaned_mental_health_data.csv\")\n",
    "\n",
    "# Load tokenizer for TinyLlama\n",
    "MODEL_NAME = \"TinyLlama/TinyLlama-1.1B-Chat-v1.0\"\n",
    "tokenizer = AutoTokenizer.from_pretrained(MODEL_NAME)\n",
    "\n",
    "# Tokenization function\n",
    "def tokenize_text(text):\n",
    "    return tokenizer(text, padding=\"max_length\", truncation=True, max_length=512)\n",
    "\n",
    "# Apply tokenization\n",
    "df[\"input_ids\"] = df[\"text\"].apply(lambda x: tokenize_text(str(x))[\"input_ids\"])\n",
    "\n",
    "# Keep only tokenized inputs and labels\n",
    "df = df[[\"input_ids\", \"Label\"]]\n",
    "\n",
    "# Save tokenized data as Parquet for efficient processing\n",
    "df.to_parquet(\"data/reddit-mental-health-dataset/tokenized_mental_health_data.parquet\", engine=\"pyarrow\")\n",
    "\n",
    "print(\"✅ Tokenization complete! Data saved as Parquet.\")\n"
   ]
  },
  {
   "cell_type": "code",
   "execution_count": null,
   "metadata": {},
   "outputs": [
    {
     "name": "stderr",
     "output_type": "stream",
     "text": [
      "Map: 100%|██████████| 720/720 [00:00<00:00, 851.90 examples/s] \n",
      "Map: 100%|██████████| 80/80 [00:00<00:00, 686.52 examples/s]\n"
     ]
    },
    {
     "data": {
      "text/html": [
       "\n",
       "    <div>\n",
       "      \n",
       "      <progress value='178' max='1080' style='width:300px; height:20px; vertical-align: middle;'></progress>\n",
       "      [ 178/1080 1:08:44 < 5:52:18, 0.04 it/s, Epoch 0.49/3]\n",
       "    </div>\n",
       "    <table border=\"1\" class=\"dataframe\">\n",
       "  <thead>\n",
       " <tr style=\"text-align: left;\">\n",
       "      <th>Epoch</th>\n",
       "      <th>Training Loss</th>\n",
       "      <th>Validation Loss</th>\n",
       "    </tr>\n",
       "  </thead>\n",
       "  <tbody>\n",
       "  </tbody>\n",
       "</table><p>"
      ],
      "text/plain": [
       "<IPython.core.display.HTML object>"
      ]
     },
     "metadata": {},
     "output_type": "display_data"
    }
   ],
   "source": [
    "from transformers import Trainer, TrainingArguments, AutoModelForCausalLM\n",
    "from datasets import load_dataset\n",
    "import torch\n",
    "import bitsandbytes as bnb\n",
    "from peft import LoraConfig, get_peft_model\n",
    "from transformers import BitsAndBytesConfig\n",
    "\n",
    "# Enable 8-bit quantization\n",
    "quantization_config = BitsAndBytesConfig(\n",
    "    load_in_8bit=True,  # Use 8-bit quantization\n",
    "    llm_int8_enable_fp32_cpu_offload=True  # Offload CPU computations to save VRAM\n",
    ")\n",
    "\n",
    "# Load model and force it onto the current CUDA device\n",
    "device = torch.device(\"cuda\" if torch.cuda.is_available() else \"cpu\")\n",
    "\n",
    "model = AutoModelForCausalLM.from_pretrained(\n",
    "    MODEL_NAME,\n",
    "    device_map={'': torch.cuda.current_device()},  # Assign model to GPU\n",
    "    quantization_config=quantization_config  # Apply quantization\n",
    ")\n",
    "  # Move model to GPU\n",
    "\n",
    "\n",
    "\n",
    "\n",
    "# Apply LoRA for efficient fine-tuning\n",
    "lora_config = LoraConfig(\n",
    "    r=8, \n",
    "    lora_alpha=32, \n",
    "    target_modules=[\"q_proj\", \"v_proj\"],  \n",
    "    lora_dropout=0.05, \n",
    "    bias=\"none\"\n",
    ")\n",
    "model = get_peft_model(model, lora_config)\n",
    "\n",
    "# Load tokenized dataset\n",
    "from datasets import DatasetDict\n",
    "\n",
    "# Load tokenized dataset\n",
    "dataset = load_dataset(\"parquet\", data_files={\"data\": \"data/reddit-mental-health-dataset/tokenized_mental_health_data.parquet\"})\n",
    "\n",
    "# Convert dataset to dictionary format\n",
    "dataset = dataset[\"data\"].train_test_split(test_size=0.1)\n",
    "\n",
    "# Ensure `labels` are the same as `input_ids`\n",
    "dataset = DatasetDict({\n",
    "    \"train\": dataset[\"train\"].map(lambda x: {\"labels\": x[\"input_ids\"]}),\n",
    "    \"eval\": dataset[\"test\"].map(lambda x: {\"labels\": x[\"input_ids\"]})\n",
    "})\n",
    "\n",
    "\n",
    "# Define training arguments\n",
    "training_args = TrainingArguments(\n",
    "    output_dir=\"./fine_tuned_results\",\n",
    "    per_device_train_batch_size=2,  # Lower batch size for 4GB GPU\n",
    "    per_device_eval_batch_size=2,\n",
    "    num_train_epochs=3,  # Train for 3 epochs\n",
    "    save_total_limit=2,\n",
    "    eval_strategy=\"epoch\",\n",
    "    learning_rate=2e-5,\n",
    "    weight_decay=0.01,\n",
    "    logging_steps=100,\n",
    "    save_strategy=\"epoch\"\n",
    ")\n",
    "\n",
    "# Trainer\n",
    "trainer = Trainer(\n",
    "    model=model,\n",
    "    args=training_args,\n",
    "    train_dataset=dataset[\"train\"],\n",
    "    eval_dataset=dataset[\"eval\"]  # Add evaluation dataset\n",
    ")\n",
    "\n",
    "\n",
    "# Start training\n",
    "trainer.train()\n",
    "\n",
    "# Save the fine-tuned model\n",
    "model.save_pretrained(\"./fine_tuned_model\")\n",
    "print(\"✅ Fine-tuning complete! Model saved.\")\n"
   ]
  },
  {
   "cell_type": "code",
   "execution_count": null,
   "metadata": {},
   "outputs": [],
   "source": []
  }
 ],
 "metadata": {
  "kernelspec": {
   "display_name": ".venv",
   "language": "python",
   "name": "python3"
  },
  "language_info": {
   "codemirror_mode": {
    "name": "ipython",
    "version": 3
   },
   "file_extension": ".py",
   "mimetype": "text/x-python",
   "name": "python",
   "nbconvert_exporter": "python",
   "pygments_lexer": "ipython3",
   "version": "3.12.3"
  }
 },
 "nbformat": 4,
 "nbformat_minor": 2
}
